{
  "nbformat": 4,
  "nbformat_minor": 0,
  "metadata": {
    "colab": {
      "name": "Copy of Golf Predictions.ipynb",
      "version": "0.3.2",
      "provenance": [],
      "collapsed_sections": [],
      "include_colab_link": true
    },
    "kernelspec": {
      "name": "python3",
      "display_name": "Python 3"
    }
  },
  "cells": [
    {
      "cell_type": "markdown",
      "metadata": {
        "id": "view-in-github",
        "colab_type": "text"
      },
      "source": [
        "<a href=\"https://colab.research.google.com/github/JaromTollefson/ML-day_1/blob/master/Copy_of_Golf_Predictions.ipynb\" target=\"_parent\"><img src=\"https://colab.research.google.com/assets/colab-badge.svg\" alt=\"Open In Colab\"/></a>"
      ]
    },
    {
      "metadata": {
        "id": "4WWIpc11k0Rn",
        "colab_type": "code",
        "colab": {}
      },
      "cell_type": "code",
      "source": [
        "from sklearn import tree\n",
        "import pandas as pd"
      ],
      "execution_count": 0,
      "outputs": []
    },
    {
      "metadata": {
        "id": "_1QF14cGl13S",
        "colab_type": "text"
      },
      "cell_type": "markdown",
      "source": [
        "Seed and Target Data"
      ]
    },
    {
      "metadata": {
        "id": "LOLLnZlelwrT",
        "colab_type": "code",
        "colab": {}
      },
      "cell_type": "code",
      "source": [
        "#create empty data frame\n",
        "golf_df = pd.DataFrame()\n",
        "\n",
        "#add outlook\n",
        "golf_df['Outlook'] = ['sunny', 'sunny', 'overcast', 'rainy', 'rainy', 'rainy', \n",
        "                     'overcast', 'sunny', 'sunny', 'rainy', 'sunny', 'overcast',\n",
        "                     'overcast', 'rainy']\n",
        "\n",
        "#add temperature\n",
        "golf_df['Temperature'] = ['hot', 'hot', 'hot', 'mild', 'cool', 'cool', 'cool',\n",
        "                         'mild', 'cool', 'mild', 'mild', 'mild', 'hot', 'mild']\n",
        "\n",
        "#add humidity\n",
        "golf_df['Humidity'] = ['high', 'high', 'high', 'high', 'normal', 'normal', 'normal',\n",
        "                      'high', 'normal', 'normal', 'normal', 'high', 'normal', 'high']\n",
        "\n",
        "#add windy\n",
        "golf_df['Windy'] = ['false', 'true', 'false', 'false', 'false', 'true', 'true',\n",
        "                   'false', 'false', 'false', 'true', 'true', 'false', 'true']\n",
        "\n",
        "#finally add play\n",
        "golf_df['Play'] = ['no', 'no', 'yes', 'yes', 'yes', 'no', 'yes', 'no', 'yes', 'yes', 'yes', \n",
        "                  'yes', 'yes', 'no']"
      ],
      "execution_count": 0,
      "outputs": []
    },
    {
      "metadata": {
        "id": "uZk3Iq1S1WlY",
        "colab_type": "code",
        "colab": {
          "base_uri": "https://localhost:8080/",
          "height": 483
        },
        "outputId": "e6c1147d-366c-4781-d8f9-623f2e8ce6b5"
      },
      "cell_type": "code",
      "source": [
        "golf_df\n"
      ],
      "execution_count": 6,
      "outputs": [
        {
          "output_type": "execute_result",
          "data": {
            "text/html": [
              "<div>\n",
              "<style scoped>\n",
              "    .dataframe tbody tr th:only-of-type {\n",
              "        vertical-align: middle;\n",
              "    }\n",
              "\n",
              "    .dataframe tbody tr th {\n",
              "        vertical-align: top;\n",
              "    }\n",
              "\n",
              "    .dataframe thead th {\n",
              "        text-align: right;\n",
              "    }\n",
              "</style>\n",
              "<table border=\"1\" class=\"dataframe\">\n",
              "  <thead>\n",
              "    <tr style=\"text-align: right;\">\n",
              "      <th></th>\n",
              "      <th>Outlook</th>\n",
              "      <th>Temperature</th>\n",
              "      <th>Humidity</th>\n",
              "      <th>Windy</th>\n",
              "      <th>Play</th>\n",
              "    </tr>\n",
              "  </thead>\n",
              "  <tbody>\n",
              "    <tr>\n",
              "      <th>0</th>\n",
              "      <td>sunny</td>\n",
              "      <td>hot</td>\n",
              "      <td>high</td>\n",
              "      <td>false</td>\n",
              "      <td>no</td>\n",
              "    </tr>\n",
              "    <tr>\n",
              "      <th>1</th>\n",
              "      <td>sunny</td>\n",
              "      <td>hot</td>\n",
              "      <td>high</td>\n",
              "      <td>true</td>\n",
              "      <td>no</td>\n",
              "    </tr>\n",
              "    <tr>\n",
              "      <th>2</th>\n",
              "      <td>overcast</td>\n",
              "      <td>hot</td>\n",
              "      <td>high</td>\n",
              "      <td>false</td>\n",
              "      <td>yes</td>\n",
              "    </tr>\n",
              "    <tr>\n",
              "      <th>3</th>\n",
              "      <td>rainy</td>\n",
              "      <td>mild</td>\n",
              "      <td>high</td>\n",
              "      <td>false</td>\n",
              "      <td>yes</td>\n",
              "    </tr>\n",
              "    <tr>\n",
              "      <th>4</th>\n",
              "      <td>rainy</td>\n",
              "      <td>cool</td>\n",
              "      <td>normal</td>\n",
              "      <td>false</td>\n",
              "      <td>yes</td>\n",
              "    </tr>\n",
              "    <tr>\n",
              "      <th>5</th>\n",
              "      <td>rainy</td>\n",
              "      <td>cool</td>\n",
              "      <td>normal</td>\n",
              "      <td>true</td>\n",
              "      <td>no</td>\n",
              "    </tr>\n",
              "    <tr>\n",
              "      <th>6</th>\n",
              "      <td>overcast</td>\n",
              "      <td>cool</td>\n",
              "      <td>normal</td>\n",
              "      <td>true</td>\n",
              "      <td>yes</td>\n",
              "    </tr>\n",
              "    <tr>\n",
              "      <th>7</th>\n",
              "      <td>sunny</td>\n",
              "      <td>mild</td>\n",
              "      <td>high</td>\n",
              "      <td>false</td>\n",
              "      <td>no</td>\n",
              "    </tr>\n",
              "    <tr>\n",
              "      <th>8</th>\n",
              "      <td>sunny</td>\n",
              "      <td>cool</td>\n",
              "      <td>normal</td>\n",
              "      <td>false</td>\n",
              "      <td>yes</td>\n",
              "    </tr>\n",
              "    <tr>\n",
              "      <th>9</th>\n",
              "      <td>rainy</td>\n",
              "      <td>mild</td>\n",
              "      <td>normal</td>\n",
              "      <td>false</td>\n",
              "      <td>yes</td>\n",
              "    </tr>\n",
              "    <tr>\n",
              "      <th>10</th>\n",
              "      <td>sunny</td>\n",
              "      <td>mild</td>\n",
              "      <td>normal</td>\n",
              "      <td>true</td>\n",
              "      <td>yes</td>\n",
              "    </tr>\n",
              "    <tr>\n",
              "      <th>11</th>\n",
              "      <td>overcast</td>\n",
              "      <td>mild</td>\n",
              "      <td>high</td>\n",
              "      <td>true</td>\n",
              "      <td>yes</td>\n",
              "    </tr>\n",
              "    <tr>\n",
              "      <th>12</th>\n",
              "      <td>overcast</td>\n",
              "      <td>hot</td>\n",
              "      <td>normal</td>\n",
              "      <td>false</td>\n",
              "      <td>yes</td>\n",
              "    </tr>\n",
              "    <tr>\n",
              "      <th>13</th>\n",
              "      <td>rainy</td>\n",
              "      <td>mild</td>\n",
              "      <td>high</td>\n",
              "      <td>true</td>\n",
              "      <td>no</td>\n",
              "    </tr>\n",
              "  </tbody>\n",
              "</table>\n",
              "</div>"
            ],
            "text/plain": [
              "     Outlook Temperature Humidity  Windy Play\n",
              "0      sunny         hot     high  false   no\n",
              "1      sunny         hot     high   true   no\n",
              "2   overcast         hot     high  false  yes\n",
              "3      rainy        mild     high  false  yes\n",
              "4      rainy        cool   normal  false  yes\n",
              "5      rainy        cool   normal   true   no\n",
              "6   overcast        cool   normal   true  yes\n",
              "7      sunny        mild     high  false   no\n",
              "8      sunny        cool   normal  false  yes\n",
              "9      rainy        mild   normal  false  yes\n",
              "10     sunny        mild   normal   true  yes\n",
              "11  overcast        mild     high   true  yes\n",
              "12  overcast         hot   normal  false  yes\n",
              "13     rainy        mild     high   true   no"
            ]
          },
          "metadata": {
            "tags": []
          },
          "execution_count": 6
        }
      ]
    },
    {
      "metadata": {
        "id": "G7g5lyf112Zo",
        "colab_type": "code",
        "colab": {}
      },
      "cell_type": "code",
      "source": [
        "one_hot_data = pd.get_dummies(golf_df[['Outlook', 'Humidity', 'Windy']])\n"
      ],
      "execution_count": 0,
      "outputs": []
    },
    {
      "metadata": {
        "id": "ZUzQl3uw2NWY",
        "colab_type": "code",
        "colab": {
          "base_uri": "https://localhost:8080/",
          "height": 564
        },
        "outputId": "0e849ed6-0dc1-4616-801f-262838acbae2"
      },
      "cell_type": "code",
      "source": [
        "print(one_hot_data)"
      ],
      "execution_count": 8,
      "outputs": [
        {
          "output_type": "stream",
          "text": [
            "    Outlook_overcast  Outlook_rainy  Outlook_sunny  Humidity_high  \\\n",
            "0                  0              0              1              1   \n",
            "1                  0              0              1              1   \n",
            "2                  1              0              0              1   \n",
            "3                  0              1              0              1   \n",
            "4                  0              1              0              0   \n",
            "5                  0              1              0              0   \n",
            "6                  1              0              0              0   \n",
            "7                  0              0              1              1   \n",
            "8                  0              0              1              0   \n",
            "9                  0              1              0              0   \n",
            "10                 0              0              1              0   \n",
            "11                 1              0              0              1   \n",
            "12                 1              0              0              0   \n",
            "13                 0              1              0              1   \n",
            "\n",
            "    Humidity_normal  Windy_false  Windy_true  \n",
            "0                 0            1           0  \n",
            "1                 0            0           1  \n",
            "2                 0            1           0  \n",
            "3                 0            1           0  \n",
            "4                 1            1           0  \n",
            "5                 1            0           1  \n",
            "6                 1            0           1  \n",
            "7                 0            1           0  \n",
            "8                 1            1           0  \n",
            "9                 1            1           0  \n",
            "10                1            0           1  \n",
            "11                0            0           1  \n",
            "12                1            1           0  \n",
            "13                0            0           1  \n"
          ],
          "name": "stdout"
        }
      ]
    },
    {
      "metadata": {
        "id": "Y-GqAolp2UUs",
        "colab_type": "code",
        "colab": {}
      },
      "cell_type": "code",
      "source": [
        "clf = tree.DecisionTreeClassifier()"
      ],
      "execution_count": 0,
      "outputs": []
    },
    {
      "metadata": {
        "id": "gSPCEoRo2epf",
        "colab_type": "code",
        "colab": {}
      },
      "cell_type": "code",
      "source": [
        "clf_train = clf.fit(one_hot_data, golf_df['Play'])"
      ],
      "execution_count": 0,
      "outputs": []
    },
    {
      "metadata": {
        "id": "mpljXm502tac",
        "colab_type": "code",
        "colab": {
          "base_uri": "https://localhost:8080/",
          "height": 513
        },
        "outputId": "854348c0-f1ed-4b19-f44a-1969f22d0341"
      },
      "cell_type": "code",
      "source": [
        "print(tree.export_graphviz(clf_train, None))"
      ],
      "execution_count": 11,
      "outputs": [
        {
          "output_type": "stream",
          "text": [
            "digraph Tree {\n",
            "node [shape=box] ;\n",
            "0 [label=\"X[0] <= 0.5\\ngini = 0.459\\nsamples = 14\\nvalue = [5, 9]\"] ;\n",
            "1 [label=\"X[4] <= 0.5\\ngini = 0.5\\nsamples = 10\\nvalue = [5, 5]\"] ;\n",
            "0 -> 1 [labeldistance=2.5, labelangle=45, headlabel=\"True\"] ;\n",
            "2 [label=\"X[2] <= 0.5\\ngini = 0.32\\nsamples = 5\\nvalue = [4, 1]\"] ;\n",
            "1 -> 2 ;\n",
            "3 [label=\"X[6] <= 0.5\\ngini = 0.5\\nsamples = 2\\nvalue = [1, 1]\"] ;\n",
            "2 -> 3 ;\n",
            "4 [label=\"gini = 0.0\\nsamples = 1\\nvalue = [0, 1]\"] ;\n",
            "3 -> 4 ;\n",
            "5 [label=\"gini = 0.0\\nsamples = 1\\nvalue = [1, 0]\"] ;\n",
            "3 -> 5 ;\n",
            "6 [label=\"gini = 0.0\\nsamples = 3\\nvalue = [3, 0]\"] ;\n",
            "2 -> 6 ;\n",
            "7 [label=\"X[5] <= 0.5\\ngini = 0.32\\nsamples = 5\\nvalue = [1, 4]\"] ;\n",
            "1 -> 7 ;\n",
            "8 [label=\"X[2] <= 0.5\\ngini = 0.5\\nsamples = 2\\nvalue = [1, 1]\"] ;\n",
            "7 -> 8 ;\n",
            "9 [label=\"gini = 0.0\\nsamples = 1\\nvalue = [1, 0]\"] ;\n",
            "8 -> 9 ;\n",
            "10 [label=\"gini = 0.0\\nsamples = 1\\nvalue = [0, 1]\"] ;\n",
            "8 -> 10 ;\n",
            "11 [label=\"gini = 0.0\\nsamples = 3\\nvalue = [0, 3]\"] ;\n",
            "7 -> 11 ;\n",
            "12 [label=\"gini = 0.0\\nsamples = 4\\nvalue = [0, 4]\"] ;\n",
            "0 -> 12 [labeldistance=2.5, labelangle=-45, headlabel=\"False\"] ;\n",
            "}\n"
          ],
          "name": "stdout"
        }
      ]
    },
    {
      "metadata": {
        "id": "M2sNmhgG4Eku",
        "colab_type": "text"
      },
      "cell_type": "markdown",
      "source": [
        "gini index = chance that I will make the globably optimal choice\n"
      ]
    },
    {
      "metadata": {
        "id": "3axJyMQD4QkE",
        "colab_type": "code",
        "colab": {
          "base_uri": "https://localhost:8080/",
          "height": 422
        },
        "outputId": "ccba9647-fcc3-4380-804b-bfbd3914abf8"
      },
      "cell_type": "code",
      "source": [
        "prediction = clf_train.predict([[0, 0, 1, 0, 1, 0, 0, 1, 0, 1]])"
      ],
      "execution_count": 13,
      "outputs": [
        {
          "output_type": "error",
          "ename": "ValueError",
          "evalue": "ignored",
          "traceback": [
            "\u001b[0;31m---------------------------------------------------------------------------\u001b[0m",
            "\u001b[0;31mValueError\u001b[0m                                Traceback (most recent call last)",
            "\u001b[0;32m<ipython-input-13-d1b3ad438747>\u001b[0m in \u001b[0;36m<module>\u001b[0;34m()\u001b[0m\n\u001b[0;32m----> 1\u001b[0;31m \u001b[0mprediction\u001b[0m \u001b[0;34m=\u001b[0m \u001b[0mclf_train\u001b[0m\u001b[0;34m.\u001b[0m\u001b[0mpredict\u001b[0m\u001b[0;34m(\u001b[0m\u001b[0;34m[\u001b[0m\u001b[0;34m[\u001b[0m\u001b[0;36m0\u001b[0m\u001b[0;34m,\u001b[0m \u001b[0;36m0\u001b[0m\u001b[0;34m,\u001b[0m \u001b[0;36m1\u001b[0m\u001b[0;34m,\u001b[0m \u001b[0;36m0\u001b[0m\u001b[0;34m,\u001b[0m \u001b[0;36m1\u001b[0m\u001b[0;34m,\u001b[0m \u001b[0;36m0\u001b[0m\u001b[0;34m,\u001b[0m \u001b[0;36m0\u001b[0m\u001b[0;34m,\u001b[0m \u001b[0;36m1\u001b[0m\u001b[0;34m,\u001b[0m \u001b[0;36m0\u001b[0m\u001b[0;34m,\u001b[0m \u001b[0;36m1\u001b[0m\u001b[0;34m]\u001b[0m\u001b[0;34m]\u001b[0m\u001b[0;34m)\u001b[0m\u001b[0;34m\u001b[0m\u001b[0m\n\u001b[0m",
            "\u001b[0;32m/usr/local/lib/python3.6/dist-packages/sklearn/tree/tree.py\u001b[0m in \u001b[0;36mpredict\u001b[0;34m(self, X, check_input)\u001b[0m\n\u001b[1;32m    410\u001b[0m         \"\"\"\n\u001b[1;32m    411\u001b[0m         \u001b[0mcheck_is_fitted\u001b[0m\u001b[0;34m(\u001b[0m\u001b[0mself\u001b[0m\u001b[0;34m,\u001b[0m \u001b[0;34m'tree_'\u001b[0m\u001b[0;34m)\u001b[0m\u001b[0;34m\u001b[0m\u001b[0m\n\u001b[0;32m--> 412\u001b[0;31m         \u001b[0mX\u001b[0m \u001b[0;34m=\u001b[0m \u001b[0mself\u001b[0m\u001b[0;34m.\u001b[0m\u001b[0m_validate_X_predict\u001b[0m\u001b[0;34m(\u001b[0m\u001b[0mX\u001b[0m\u001b[0;34m,\u001b[0m \u001b[0mcheck_input\u001b[0m\u001b[0;34m)\u001b[0m\u001b[0;34m\u001b[0m\u001b[0m\n\u001b[0m\u001b[1;32m    413\u001b[0m         \u001b[0mproba\u001b[0m \u001b[0;34m=\u001b[0m \u001b[0mself\u001b[0m\u001b[0;34m.\u001b[0m\u001b[0mtree_\u001b[0m\u001b[0;34m.\u001b[0m\u001b[0mpredict\u001b[0m\u001b[0;34m(\u001b[0m\u001b[0mX\u001b[0m\u001b[0;34m)\u001b[0m\u001b[0;34m\u001b[0m\u001b[0m\n\u001b[1;32m    414\u001b[0m         \u001b[0mn_samples\u001b[0m \u001b[0;34m=\u001b[0m \u001b[0mX\u001b[0m\u001b[0;34m.\u001b[0m\u001b[0mshape\u001b[0m\u001b[0;34m[\u001b[0m\u001b[0;36m0\u001b[0m\u001b[0;34m]\u001b[0m\u001b[0;34m\u001b[0m\u001b[0m\n",
            "\u001b[0;32m/usr/local/lib/python3.6/dist-packages/sklearn/tree/tree.py\u001b[0m in \u001b[0;36m_validate_X_predict\u001b[0;34m(self, X, check_input)\u001b[0m\n\u001b[1;32m    382\u001b[0m                              \u001b[0;34m\"match the input. Model n_features is %s and \"\u001b[0m\u001b[0;34m\u001b[0m\u001b[0m\n\u001b[1;32m    383\u001b[0m                              \u001b[0;34m\"input n_features is %s \"\u001b[0m\u001b[0;34m\u001b[0m\u001b[0m\n\u001b[0;32m--> 384\u001b[0;31m                              % (self.n_features_, n_features))\n\u001b[0m\u001b[1;32m    385\u001b[0m \u001b[0;34m\u001b[0m\u001b[0m\n\u001b[1;32m    386\u001b[0m         \u001b[0;32mreturn\u001b[0m \u001b[0mX\u001b[0m\u001b[0;34m\u001b[0m\u001b[0m\n",
            "\u001b[0;31mValueError\u001b[0m: Number of features of the model must match the input. Model n_features is 7 and input n_features is 10 "
          ]
        }
      ]
    }
  ]
}